{
 "cells": [
  {
   "cell_type": "code",
   "execution_count": 1,
   "id": "912c38ba",
   "metadata": {
    "_cell_guid": "b1076dfc-b9ad-4769-8c92-a6c4dae69d19",
    "_uuid": "8f2839f25d086af736a60e9eeb907d3b93b6e0e5",
    "execution": {
     "iopub.execute_input": "2022-07-14T21:05:53.637721Z",
     "iopub.status.busy": "2022-07-14T21:05:53.636503Z",
     "iopub.status.idle": "2022-07-14T21:05:53.656102Z",
     "shell.execute_reply": "2022-07-14T21:05:53.654926Z"
    },
    "papermill": {
     "duration": 0.027279,
     "end_time": "2022-07-14T21:05:53.659373",
     "exception": false,
     "start_time": "2022-07-14T21:05:53.632094",
     "status": "completed"
    },
    "tags": []
   },
   "outputs": [
    {
     "name": "stdout",
     "output_type": "stream",
     "text": [
      "/kaggle/input/nlp-getting-started/sample_submission.csv\n",
      "/kaggle/input/nlp-getting-started/train.csv\n",
      "/kaggle/input/nlp-getting-started/test.csv\n"
     ]
    }
   ],
   "source": [
    "# This Python 3 environment comes with many helpful analytics libraries installed\n",
    "# It is defined by the kaggle/python Docker image: https://github.com/kaggle/docker-python\n",
    "# For example, here's several helpful packages to load\n",
    "\n",
    "import numpy as np # linear algebra\n",
    "import pandas as pd # data processing, CSV file I/O (e.g. pd.read_csv)\n",
    "\n",
    "# Input data files are available in the read-only \"../input/\" directory\n",
    "# For example, running this (by clicking run or pressing Shift+Enter) will list all files under the input directory\n",
    "\n",
    "import os\n",
    "for dirname, _, filenames in os.walk('/kaggle/input'):\n",
    "    for filename in filenames:\n",
    "        print(os.path.join(dirname, filename))\n",
    "\n",
    "# You can write up to 20GB to the current directory (/kaggle/working/) that gets preserved as output when you create a version using \"Save & Run All\" \n",
    "# You can also write temporary files to /kaggle/temp/, but they won't be saved outside of the current session"
   ]
  },
  {
   "cell_type": "markdown",
   "id": "e7979b3d",
   "metadata": {
    "papermill": {
     "duration": 0.001718,
     "end_time": "2022-07-14T21:05:53.663230",
     "exception": false,
     "start_time": "2022-07-14T21:05:53.661512",
     "status": "completed"
    },
    "tags": []
   },
   "source": [
    "Hello Max?"
   ]
  },
  {
   "cell_type": "code",
   "execution_count": null,
   "id": "9a741755",
   "metadata": {
    "papermill": {
     "duration": 0.001692,
     "end_time": "2022-07-14T21:05:53.666657",
     "exception": false,
     "start_time": "2022-07-14T21:05:53.664965",
     "status": "completed"
    },
    "tags": []
   },
   "outputs": [],
   "source": []
  }
 ],
 "metadata": {
  "kernelspec": {
   "display_name": "Python 3",
   "language": "python",
   "name": "python3"
  },
  "language_info": {
   "codemirror_mode": {
    "name": "ipython",
    "version": 3
   },
   "file_extension": ".py",
   "mimetype": "text/x-python",
   "name": "python",
   "nbconvert_exporter": "python",
   "pygments_lexer": "ipython3",
   "version": "3.7.12"
  },
  "papermill": {
   "default_parameters": {},
   "duration": 11.479236,
   "end_time": "2022-07-14T21:05:54.289718",
   "environment_variables": {},
   "exception": null,
   "input_path": "__notebook__.ipynb",
   "output_path": "__notebook__.ipynb",
   "parameters": {},
   "start_time": "2022-07-14T21:05:42.810482",
   "version": "2.3.4"
  }
 },
 "nbformat": 4,
 "nbformat_minor": 5
}
